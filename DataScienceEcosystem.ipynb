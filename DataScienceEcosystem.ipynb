{
 "cells": [
  {
   "cell_type": "markdown",
   "id": "5612b429",
   "metadata": {},
   "source": [
    "# Data Science Tools and Ecosystem"
   ]
  },
  {
   "cell_type": "markdown",
   "id": "d2d4b234",
   "metadata": {},
   "source": [
    "In this notebook, Data Science Tools and Ecosystem are summarized."
   ]
  },
  {
   "cell_type": "markdown",
   "id": "6ce3a2a9",
   "metadata": {},
   "source": [
    "Some of the popular languages that Data Scientists use are:\n",
    "\n",
    "1. Python\n",
    "2. R\n",
    "3. SQL\n"
   ]
  },
  {
   "cell_type": "markdown",
   "id": "e886ab00",
   "metadata": {},
   "source": [
    "Some of the commonly used libraries used by Data Scientists include:\n",
    "\n",
    "1. Scientific Computing:\n",
    "    1. Pandas (Data structures & tools)\n",
    "    2. NumPy (Arrays & matricies)\n",
    "2. Visualization\n",
    "    1. Matplotlib (plots/graphs)\n",
    "    2. Seaborn (heat maps, violin plots, time series)\n",
    "3. Machine Learning & Deep Learning\n",
    "    1. Scikit-learn (ML: regression, classification, clustering)\n",
    "    2. Keras (Deep learning neural networks)\n",
    "    3. Tensor Flow (Deep learning: production and deployment)\n",
    "\n"
   ]
  },
  {
   "cell_type": "markdown",
   "id": "b82b0b0f",
   "metadata": {},
   "source": [
    "| Data Science Tools |\n",
    "|:--------:|\n",
    "|  Jupyter  |\n",
    "|  RStudio   | \n",
    "|  Github   | "
   ]
  },
  {
   "cell_type": "markdown",
   "id": "393edb6c",
   "metadata": {},
   "source": [
    "### Below are a few examples of evaluating arithmetic expressions in Python"
   ]
  },
  {
   "cell_type": "code",
   "execution_count": 2,
   "id": "39895f99",
   "metadata": {},
   "outputs": [
    {
     "data": {
      "text/plain": [
       "17"
      ]
     },
     "execution_count": 2,
     "metadata": {},
     "output_type": "execute_result"
    }
   ],
   "source": [
    "#This a simple arithmetic expression to mutiply then add integers\n",
    "(3*4)+5"
   ]
  },
  {
   "cell_type": "code",
   "execution_count": 7,
   "id": "a8bb6583",
   "metadata": {},
   "outputs": [
    {
     "data": {
      "text/plain": [
       "3.3333333333333335"
      ]
     },
     "execution_count": 7,
     "metadata": {},
     "output_type": "execute_result"
    }
   ],
   "source": [
    "#This will convert 200 minutes to hours by diving by 60\n",
    "minutes = 200\n",
    "minutes/60"
   ]
  },
  {
   "cell_type": "markdown",
   "id": "979f926c",
   "metadata": {},
   "source": [
    "## **Objectives**\n",
    "List popular languages for Data Science:\n",
    "* R\n",
    "* Python\n",
    "* SQL\n",
    "* Java\n",
    "* C++\n",
    "* Scala\n",
    "* JavaScript\n",
    "* Julia"
   ]
  },
  {
   "cell_type": "markdown",
   "id": "ff2b05d5",
   "metadata": {},
   "source": [
    "## Author\n",
    "Candace Pang"
   ]
  }
 ],
 "metadata": {
  "kernelspec": {
   "display_name": "Python 3 (ipykernel)",
   "language": "python",
   "name": "python3"
  },
  "language_info": {
   "codemirror_mode": {
    "name": "ipython",
    "version": 3
   },
   "file_extension": ".py",
   "mimetype": "text/x-python",
   "name": "python",
   "nbconvert_exporter": "python",
   "pygments_lexer": "ipython3",
   "version": "3.9.13"
  }
 },
 "nbformat": 4,
 "nbformat_minor": 5
}
